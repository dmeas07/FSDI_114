{
 "cells": [
  {
   "cell_type": "code",
   "execution_count": 1,
   "id": "5efa9e2b",
   "metadata": {},
   "outputs": [
    {
     "name": "stdout",
     "output_type": "stream",
     "text": [
      "h\n",
      "e\n",
      "l\n",
      "l\n",
      "o\n",
      ",\n",
      " \n",
      "w\n",
      "o\n",
      "r\n",
      "l\n",
      "d\n"
     ]
    }
   ],
   "source": [
    "for letter in \"hello, world\":\n",
    "    print(letter)"
   ]
  },
  {
   "cell_type": "markdown",
   "id": "61cf3460",
   "metadata": {},
   "source": [
    "# Problem 1\n",
    "\n",
    "### Given two strings (string_a and string_b) create a function that checks whether or not they are anagrams of each other, considering the following criteria:\n",
    "\n",
    "Two string are only anagrams of each other if:\n",
    "1. They are of exactly the same length\n",
    "2. They use exactly the same characters (no more, no less).\n",
    "\n",
    "```\n",
    "Examples:\n",
    "cars and scar\n",
    "heart and earth\n",
    "```"
   ]
  },
  {
   "cell_type": "code",
   "execution_count": 2,
   "id": "8082a4ca",
   "metadata": {},
   "outputs": [],
   "source": [
    "# Avoid this:\n",
    "# def are_anagrams(string_a, string_b):\n",
    "#     return sorted(string_a) == sorted(string_b)"
   ]
  },
  {
   "cell_type": "markdown",
   "id": "61655714",
   "metadata": {},
   "source": [
    "def get_str_len(mystr):\n",
    "    counter = 0\n",
    "    for i in range(len(mystr)):\n",
    "        counter += 1\n",
    "    return counter\n",
    "\n",
    "def are_anagrams(string_a, string_b):\n",
    "    if len(string_a) != len(string_b):                        # covering the 'length' case.\n",
    "        return False                                          # if our strings are of unequal lenth, then 0(1) - constant\n",
    "    char_times_a = dict()                                     # These dictionary will track which characters we've seen\n",
    "    char_times_b = dict()                                     # each key is every character, and values are times seen\n",
    "    for i in range(len(string_a)):                            # loop from 0  to the length of string a\n",
    "        if string_a[i] not in char_times_a.keys():            # every time we loop, we check if the character at index \"i\"\n",
    "            char_times_a[string_a[i]] = 1                     # within string_a is a key in our dictionary\n",
    "        else:                                                 # if it isnt, create a new dict entry and give is a value 1\n",
    "            char_times_a[string_a[i]] += 1                    # representing weve seen it once\n",
    "        if string_b[i] not in char_times_b.keys():            # if it is, add 1 to whatever the current value is.\n",
    "            char_times_b[string_b[i]] = 1                     # We do the same for string_b\n",
    "        else:\n",
    "            char_times_b[string_b[i]] += 1\n",
    "    return char_times_a == char_times_b                       # return the comparison between char_times_a and Char_times_b\n",
    "                                                              # this will return Trus if they are equal, False otherwise"
   ]
  },
  {
   "cell_type": "markdown",
   "id": "32eee66b",
   "metadata": {},
   "source": [
    "are_anagrams(\"cars\", \"scar\")"
   ]
  },
  {
   "cell_type": "code",
   "execution_count": 11,
   "id": "1549d74b",
   "metadata": {},
   "outputs": [],
   "source": [
    "# So here's a twist\n",
    "\n",
    "# I am Tom Marvolo Riddle\n",
    "# I am Lord Voldemort"
   ]
  },
  {
   "cell_type": "markdown",
   "id": "26f306af",
   "metadata": {},
   "source": [
    "# Homework:\n",
    "\n",
    "### The function above (are_anagrams) must be edited such that:\n",
    "> are_anagrams (\"I am Lord Voldemort\", \"Tom Marvolo Riddle\") returns True"
   ]
  },
  {
   "cell_type": "code",
   "execution_count": 2,
   "id": "17085597",
   "metadata": {},
   "outputs": [],
   "source": [
    "def get_str_len(mystr):\n",
    "    counter = 0\n",
    "    for i in range(len(mystr)):\n",
    "        counter += 1\n",
    "    return counter\n",
    "\n",
    "def are_anagrams(string_a, string_b):\n",
    "    string_a = string_a.replace(\" \", \"\").casefold()\n",
    "    string_b = string_b.replace(\" \", \"\").casefold()\n",
    "    if len(string_a) != len(string_b):\n",
    "        return False\n",
    "    char_times_a = dict()\n",
    "    char_times_b = dict()\n",
    "    for i in range(len(string_a)):\n",
    "        if string_a[i] not in char_times_a.keys():\n",
    "            char_times_a[string_a[i]] = 1\n",
    "        else:\n",
    "            char_times_a[string_a[i]] += 1\n",
    "        if string_b[i] not in char_times_b.keys():\n",
    "            char_times_b[string_b[i]] = 1\n",
    "        else:\n",
    "            char_times_b[string_b[i]] += 1\n",
    "    return char_times_a == char_times_b"
   ]
  },
  {
   "cell_type": "code",
   "execution_count": 4,
   "id": "0fab1b3b",
   "metadata": {},
   "outputs": [
    {
     "data": {
      "text/plain": [
       "True"
      ]
     },
     "execution_count": 4,
     "metadata": {},
     "output_type": "execute_result"
    }
   ],
   "source": [
    "are_anagrams(\"Tom Marvolo Riddle\", \"I am Lord Voldemort\")"
   ]
  },
  {
   "cell_type": "code",
   "execution_count": null,
   "id": "e15ab5a4",
   "metadata": {},
   "outputs": [],
   "source": []
  }
 ],
 "metadata": {
  "kernelspec": {
   "display_name": "Python 3 (ipykernel)",
   "language": "python",
   "name": "python3"
  },
  "language_info": {
   "codemirror_mode": {
    "name": "ipython",
    "version": 3
   },
   "file_extension": ".py",
   "mimetype": "text/x-python",
   "name": "python",
   "nbconvert_exporter": "python",
   "pygments_lexer": "ipython3",
   "version": "3.10.6"
  }
 },
 "nbformat": 4,
 "nbformat_minor": 5
}
