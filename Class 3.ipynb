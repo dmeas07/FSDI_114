{
 "cells": [
  {
   "cell_type": "markdown",
   "id": "b6c9837c",
   "metadata": {},
   "source": [
    "# Problem 2\n",
    "\n",
    "### Use a stack to invert a string.\n",
    "\n",
    "Create a function called \"invert_str\" that takes a parameter (a string) and returns its inverted version.\n",
    "\n",
    "*As a requirement your solution must use one of the two stack classes we implemented last class.*\n",
    "\n",
    "```\n",
    "Examples:\n",
    "given \"Rafael\" your function should return \"leafaR\"\n",
    "given \"Cars\" your function should return \"sraC\"\n",
    "given \"Rats\" your function should return \"staR\"\n",
    "```"
   ]
  },
  {
   "cell_type": "code",
   "execution_count": 2,
   "id": "18462a03",
   "metadata": {},
   "outputs": [],
   "source": [
    "class Stack:\n",
    "    def __init__(self):\n",
    "        self.items = []\n",
    "        \n",
    "    def push(self, element):\n",
    "        self.items.append(element)\n",
    "        \n",
    "    def pop(self):\n",
    "        return self.items.pop()\n",
    "    \n",
    "    def __len__(self):\n",
    "        return len(self.items)\n"
   ]
  },
  {
   "cell_type": "code",
   "execution_count": 3,
   "id": "602916eb",
   "metadata": {},
   "outputs": [],
   "source": [
    "\n",
    "def invert_str(mystring):\n",
    "    stack = Stack()\n",
    "    for letter in mystring:\n",
    "        stack.push(letter)\n",
    "    out = \"\"\n",
    "    while len(stack) != 0:\n",
    "        out += stack.pop()\n",
    "    return out\n"
   ]
  },
  {
   "cell_type": "code",
   "execution_count": 4,
   "id": "19219df9",
   "metadata": {},
   "outputs": [
    {
     "name": "stdout",
     "output_type": "stream",
     "text": [
      "TOK\n"
     ]
    }
   ],
   "source": [
    "pairs = [\n",
    "    (\"Rafael\", \"leafaR\"),\n",
    "    (\"cars\", \"srac\"),\n",
    "    (\"rats\", \"star\"),\n",
    "    (\"1000111\", \"1110001\")\n",
    "]\n",
    "\n",
    "def test_invert_str(pairs):\n",
    "    for pair in pairs:\n",
    "        assert invert_str(pair[0]) == pair[1]\n",
    "    print(\"TOK\")\n",
    "    \n",
    "test_invert_str(pairs)"
   ]
  },
  {
   "cell_type": "code",
   "execution_count": 5,
   "id": "b7211fbf",
   "metadata": {},
   "outputs": [],
   "source": [
    "class Node:\n",
    "    def __init__(self, data):\n",
    "        self.data = data\n",
    "        self.behind = None\n",
    "        \n",
    "class Queue:\n",
    "    def __init__(self):\n",
    "        self.front = None\n",
    "        \n",
    "    def enqueue(self, element):\n",
    "        if not self.front:\n",
    "            self.front = Node(element)\n",
    "        else:\n",
    "            current = self.front\n",
    "            while current.behind:\n",
    "                current = current.behind\n",
    "            current.behind = Node(element)\n",
    "            \n",
    "    def dequeue(self):\n",
    "        if self.front:\n",
    "            data = self.front.data\n",
    "            self.front = self.front.behind\n",
    "            return data\n",
    "        raise IndexError(\"Queue empty\")"
   ]
  },
  {
   "cell_type": "markdown",
   "id": "1e098f3e",
   "metadata": {},
   "source": [
    "# Recursive Functions"
   ]
  },
  {
   "cell_type": "code",
   "execution_count": 9,
   "id": "d74b983e",
   "metadata": {},
   "outputs": [
    {
     "data": {
      "text/plain": [
       "3628800"
      ]
     },
     "execution_count": 9,
     "metadata": {},
     "output_type": "execute_result"
    }
   ],
   "source": [
    "def factorial(n):\n",
    "    if n == 0:\n",
    "        return 1\n",
    "    return n*factorial(n-1)\n",
    "\n",
    "factorial(10)"
   ]
  },
  {
   "cell_type": "code",
   "execution_count": 10,
   "id": "78c9ac6e",
   "metadata": {},
   "outputs": [],
   "source": [
    "# Recursive fibonacci\n",
    "from functools import lru_cache\n",
    "\n",
    "@lru_cache\n",
    "def fib(n):\n",
    "    if n < 2:\n",
    "        return n\n",
    "    return fib(n-1) + fib(n-2)"
   ]
  },
  {
   "cell_type": "code",
   "execution_count": 11,
   "id": "d4a19a8f",
   "metadata": {},
   "outputs": [
    {
     "data": {
      "text/plain": [
       "354224848179261915075"
      ]
     },
     "execution_count": 11,
     "metadata": {},
     "output_type": "execute_result"
    }
   ],
   "source": [
    "# for i in range(50):\n",
    "#     print(fib(i))\n",
    "\n",
    "fib(100)"
   ]
  },
  {
   "cell_type": "code",
   "execution_count": 12,
   "id": "d970eb70",
   "metadata": {},
   "outputs": [],
   "source": [
    "class HashTable:\n",
    "    def __init__(self, size):\n",
    "        # Set up size and our two lists: slots and data\n",
    "        self.size = size\n",
    "        self.slots = [None] * self.size\n",
    "        self.data = [None] * self.size\n",
    "        \n",
    "    def put(self, key, data):\n",
    "        hashvalue = self.hasfunction(key, len(self.slots))\n",
    "        if self.slots[hashvalue] == None:\n",
    "            self.slots[hashvalue] = key\n",
    "            self.data[hashvalue] = data\n",
    "        else:\n",
    "            if self.slots[hashvalue] == key:\n",
    "                self.data[hashvalue] = data\n",
    "            else:\n",
    "                nextslot = self.rehash(hashvalue, len(self.slots))\n",
    "                while(self.slots[nextslot] != None) and (self.slots[nextslot] != key):\n",
    "                    nextslot = self.rehash(nextslot, len(self.slots))\n",
    "                if self.slots[nextslot] == None:\n",
    "                    self.slots[nextslot] = key\n",
    "                    self.data[nextslot] = data\n",
    "                else:\n",
    "                    self.data[nextslot] = data\n",
    "                    \n",
    "    def hashfunction(self, key, size):\n",
    "        return key%size\n",
    "    \n",
    "    def rehash(self, oldhash, size):\n",
    "        return (oldhash+1)%size\n",
    "    \n",
    "    def get(self, key):\n",
    "        startslot = self.hashfunction(key, len(self.slots))\n",
    "        data = None\n",
    "        stop = False\n",
    "        found = False\n",
    "        position = startslot\n",
    "        \n",
    "        while self.slots[position] != None and not found and not stop: # Condition 1: the value at index\n",
    "            if self.slots[position] == key:                            #     position must not be None\n",
    "                found = True                                           # Condition 2: found == False\n",
    "                data = self.data[position]                             # Condition 3: stop == False\n",
    "            else:\n",
    "                position = self.rehash(position, len(self.slots))\n",
    "                if position == startslot:\n",
    "                    stop = True\n",
    "        return data"
   ]
  },
  {
   "cell_type": "markdown",
   "id": "dc741b11",
   "metadata": {},
   "source": [
    "# Problem 3\n",
    "\n",
    "### Refactor our recursive fibonacci function to use our HashTable class instead"
   ]
  },
  {
   "cell_type": "code",
   "execution_count": null,
   "id": "8723271a",
   "metadata": {},
   "outputs": [],
   "source": []
  }
 ],
 "metadata": {
  "kernelspec": {
   "display_name": "Python 3 (ipykernel)",
   "language": "python",
   "name": "python3"
  },
  "language_info": {
   "codemirror_mode": {
    "name": "ipython",
    "version": 3
   },
   "file_extension": ".py",
   "mimetype": "text/x-python",
   "name": "python",
   "nbconvert_exporter": "python",
   "pygments_lexer": "ipython3",
   "version": "3.10.6"
  }
 },
 "nbformat": 4,
 "nbformat_minor": 5
}
